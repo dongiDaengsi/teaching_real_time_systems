{
 "cells": [
  {
   "cell_type": "markdown",
   "metadata": {
    "toc": true
   },
   "source": [
    "<h1>Table of Contents<span class=\"tocSkip\"></span></h1>\n",
    "<div class=\"toc\"><ul class=\"toc-item\"><li><span><a href=\"#Introduction\" data-toc-modified-id=\"Introduction-1\"><span class=\"toc-item-num\">1&nbsp;&nbsp;</span>Introduction</a></span></li><li><span><a href=\"#Get-the-data\" data-toc-modified-id=\"Get-the-data-2\"><span class=\"toc-item-num\">2&nbsp;&nbsp;</span>Get the data</a></span></li><li><span><a href=\"#Allocation-time-as-a-function-of-memory-block-size\" data-toc-modified-id=\"Allocation-time-as-a-function-of-memory-block-size-3\"><span class=\"toc-item-num\">3&nbsp;&nbsp;</span>Allocation time as a function of memory block size</a></span></li><li><span><a href=\"#Deallocation-time-as-a-function-of-memory-block-size\" data-toc-modified-id=\"Deallocation-time-as-a-function-of-memory-block-size-4\"><span class=\"toc-item-num\">4&nbsp;&nbsp;</span>Deallocation time as a function of memory block size</a></span></li></ul></div>"
   ]
  },
  {
   "cell_type": "markdown",
   "metadata": {},
   "source": [
    "# Introduction\n",
    "\n",
    "In this notebook we will simply plot the results from the memory allocation / de-allocation speed test done in C."
   ]
  },
  {
   "cell_type": "markdown",
   "metadata": {},
   "source": [
    "# Get the data\n",
    "\n",
    "We load the file using Pandas and plot it using Matplotlib.\n",
    "\n",
    "First let us read the file."
   ]
  },
  {
   "cell_type": "code",
   "execution_count": 15,
   "metadata": {},
   "outputs": [
    {
     "name": "stdout",
     "output_type": "stream",
     "text": [
      "         0  1   2\n",
      "0       42  1   0\n",
      "1     2468  5  10\n",
      "2     2335  5  13\n",
      "3     2501  5  11\n",
      "4     3170  6  14\n",
      "5     3725  7  16\n",
      "6     3479  7  14\n",
      "7     1359  2   6\n",
      "8     2963  5  13\n",
      "9      465  1   2\n",
      "10    1706  4   7\n",
      "11     146  0   1\n",
      "12    3282  6  14\n",
      "13     828  2   4\n",
      "14    1962  4   8\n",
      "15     492  1   2\n",
      "16    2996  6  13\n",
      "17    3943  7  17\n",
      "18     828  2   3\n",
      "19    1437  3   6\n",
      "20     392  1   1\n",
      "21    2605  5  11\n",
      "22    3903  8  16\n",
      "23     154  1   0\n",
      "24     293  1   1\n",
      "25     383  1   2\n",
      "26    1422  2   6\n",
      "27    2717  5  12\n",
      "28    3719  7  16\n",
      "29    3896  7  17\n",
      "...    ... ..  ..\n",
      "4970  2041  3   9\n",
      "4971  2770  5  12\n",
      "4972  1224  2   6\n",
      "4973  1589  2   8\n",
      "4974   468  1   2\n",
      "4975    84  0   0\n",
      "4976  3401  6  15\n",
      "4977  3159  6  14\n",
      "4978  3607  6  16\n",
      "4979   939  2   4\n",
      "4980  3464  6  15\n",
      "4981   921  2   4\n",
      "4982  2367  4  10\n",
      "4983  3759  7  17\n",
      "4984  3686  7  19\n",
      "4985  1024  2   4\n",
      "4986   230  1   1\n",
      "4987  3299  6  14\n",
      "4988  1357  3   7\n",
      "4989  1471  2   7\n",
      "4990  3176  6  13\n",
      "4991   197  0   1\n",
      "4992  1684  4   7\n",
      "4993  1989  4   8\n",
      "4994  3620  7  16\n",
      "4995  2947  5  13\n",
      "4996   191  1   1\n",
      "4997   276  0   1\n",
      "4998  2470  5  10\n",
      "4999  1520  3   7\n",
      "\n",
      "[5000 rows x 3 columns]\n"
     ]
    }
   ],
   "source": [
    "import pandas as pd\n",
    "import matplotlib.pyplot as plt\n",
    "\n",
    "data = pd.read_csv(\"alloc_and_free_times.csv\",\n",
    "                   header=None,\n",
    "                   delim_whitespace=True)\n",
    "print(data)"
   ]
  },
  {
   "cell_type": "markdown",
   "metadata": {},
   "source": [
    "Let us now extract the columns as normal NumPy arrays."
   ]
  },
  {
   "cell_type": "code",
   "execution_count": 16,
   "metadata": {},
   "outputs": [
    {
     "name": "stdout",
     "output_type": "stream",
     "text": [
      "<class 'numpy.ndarray'>\n",
      "[  42 2468 2335 ...  276 2470 1520]\n",
      "[1 5 5 ... 0 5 3]\n",
      "[ 0 10 13 ...  1 10  7]\n"
     ]
    }
   ],
   "source": [
    "x = data[0].values\n",
    "y1 = data[1].values\n",
    "y2 = data[2].values\n",
    "print(type(x))\n",
    "print(x)\n",
    "print(y1)\n",
    "print(y2)"
   ]
  },
  {
   "cell_type": "markdown",
   "metadata": {},
   "source": [
    "# Allocation time as a function of memory block size"
   ]
  },
  {
   "cell_type": "code",
   "execution_count": 44,
   "metadata": {},
   "outputs": [
    {
     "name": "stdout",
     "output_type": "stream",
     "text": [
      "max_time= 20\n"
     ]
    },
    {
     "data": {
      "image/png": "[encoded data removed]",
      "text/plain": [
       "<matplotlib.figure.Figure at 0x202cc2ef470>"
      ]
     },
     "metadata": {},
     "output_type": "display_data"
    }
   ],
   "source": [
    "import numpy as np\n",
    "\n",
    "plt.figure(figsize=(12,6))\n",
    "\n",
    "max_time = max(y1)\n",
    "print(\"max_time=\",max_time)\n",
    "plt.yticks(np.arange(0,max_time+1))\n",
    "\n",
    "plt.xlabel(\"Memory block size in MB\", fontsize=20)\n",
    "plt.ylabel(\"Allocation time in ms\", fontsize=20)\n",
    "\n",
    "plt.scatter(x,y1, marker=\"+\")\n",
    "plt.show()"
   ]
  },
  {
   "cell_type": "markdown",
   "metadata": {},
   "source": [
    "# Deallocation time as a function of memory block size"
   ]
  },
  {
   "cell_type": "code",
   "execution_count": 43,
   "metadata": {},
   "outputs": [
    {
     "name": "stdout",
     "output_type": "stream",
     "text": [
      "max_time= 57\n"
     ]
    },
    {
     "data": {
      "image/png": "[encoded data removed]",
      "text/plain": [
       "<matplotlib.figure.Figure at 0x202ce277f28>"
      ]
     },
     "metadata": {},
     "output_type": "display_data"
    }
   ],
   "source": [
    "plt.figure(figsize=(12,10))\n",
    "\n",
    "max_time = max(y2)\n",
    "print(\"max_time=\",max_time)\n",
    "plt.yticks(np.arange(0,max_time+1,5))\n",
    "\n",
    "plt.xlabel(\"Memory block size in MB\", fontsize=20)\n",
    "plt.ylabel(\"Deallocation time in ms\", fontsize=20)\n",
    "\n",
    "plt.scatter(x,y2, marker=\"+\", color=\"red\")\n",
    "plt.show()"
   ]
  },
  {
   "cell_type": "code",
   "execution_count": null,
   "metadata": {
    "collapsed": true
   },
   "outputs": [],
   "source": []
  }
 ],
 "metadata": {
  "kernelspec": {
   "display_name": "Python 3",
   "language": "python",
   "name": "python3"
  },
  "language_info": {
   "codemirror_mode": {
    "name": "ipython",
    "version": 3
   },
   "file_extension": ".py",
   "mimetype": "text/x-python",
   "name": "python",
   "nbconvert_exporter": "python",
   "pygments_lexer": "ipython3",
   "version": "3.6.2"
  },
  "toc": {
   "base_numbering": 1,
   "nav_menu": {},
   "number_sections": true,
   "sideBar": true,
   "skip_h1_title": false,
   "title_cell": "Table of Contents",
   "title_sidebar": "Contents",
   "toc_cell": true,
   "toc_position": {},
   "toc_section_display": true,
   "toc_window_display": true
  }
 },
 "nbformat": 4,
 "nbformat_minor": 2
}
